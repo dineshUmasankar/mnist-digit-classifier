{
 "cells": [
  {
   "cell_type": "markdown",
   "metadata": {},
   "source": [
    "# Initial Naive Classification Approaches\n",
    "\n",
    "The following approaches are naive because they tend to perform well where the data contains linear relationships, and handwriting can be quite unique per person. These approaches tend to struggle with non-linear relationships and complex patterns generally, and it will be interesting to see their performance on the dataset.\n",
    "\n",
    "- Logistic Regression Classifier\n",
    "- Naive Bayes Classifier\n",
    "- Decision Trees Classifier\n",
    "- K-Nearest Neighbors Classifier\n",
    "- Support Vector Machines Classifier"
   ]
  },
  {
   "cell_type": "markdown",
   "metadata": {},
   "source": [
    "## Load Dependencies and Dataset"
   ]
  },
  {
   "cell_type": "code",
   "execution_count": null,
   "metadata": {
    "vscode": {
     "languageId": "plaintext"
    }
   },
   "outputs": [],
   "source": [
    "from sklearn.datasets import fetch_openml\n",
    "mnist = fetch_openml('mnist_784')"
   ]
  }
 ],
 "metadata": {
  "language_info": {
   "name": "python"
  }
 },
 "nbformat": 4,
 "nbformat_minor": 2
}
